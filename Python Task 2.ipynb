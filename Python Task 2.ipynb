{
 "cells": [
  {
   "cell_type": "markdown",
   "metadata": {},
   "source": [
    "# Practice    \n",
    "# Enjoy^_^"
   ]
  },
  {
   "cell_type": "markdown",
   "metadata": {},
   "source": [
    "# 2. Python "
   ]
  },
  {
   "cell_type": "markdown",
   "metadata": {},
   "source": [
    "# Generating a Multiplication Table for a Given Number"
   ]
  },
  {
   "cell_type": "code",
   "execution_count": 1,
   "metadata": {},
   "outputs": [
    {
     "name": "stdout",
     "output_type": "stream",
     "text": [
      "1 * 7 = 7\n",
      "2 * 7 = 14\n",
      "3 * 7 = 21\n",
      "4 * 7 = 28\n",
      "5 * 7 = 35\n",
      "6 * 7 = 42\n",
      "7 * 7 = 49\n",
      "8 * 7 = 56\n",
      "9 * 7 = 63\n",
      "10 * 7 = 70\n"
     ]
    },
    {
     "data": {
      "text/plain": [
       "7"
      ]
     },
     "execution_count": 1,
     "metadata": {},
     "output_type": "execute_result"
    }
   ],
   "source": [
    "def multiplication_talbe(number):\n",
    "    for i in range(1,11):\n",
    "        print(f\"{i} * {number} = {i * number}\")\n",
    "    return number\n",
    "\n",
    "multiplication_talbe(int(input(\"Enter a Number: \")))"
   ]
  },
  {
   "cell_type": "markdown",
   "metadata": {},
   "source": [
    "# Calculating Average of Numbers Using Functions"
   ]
  },
  {
   "cell_type": "code",
   "execution_count": 2,
   "metadata": {},
   "outputs": [
    {
     "name": "stdout",
     "output_type": "stream",
     "text": [
      "3.75\n"
     ]
    }
   ],
   "source": [
    "numbers=input(\"Enter a Number: \").split()\n",
    "def average_of_numbers(numbers):\n",
    "    numbers = [int(num) for num in numbers]\n",
    "    result = sum(numbers) / len(numbers)\n",
    "    print(result)\n",
    "average_of_numbers(numbers)"
   ]
  },
  {
   "cell_type": "markdown",
   "metadata": {},
   "source": [
    "# Finding the Longest Word in a List"
   ]
  },
  {
   "cell_type": "code",
   "execution_count": null,
   "metadata": {},
   "outputs": [],
   "source": [
    "def longest_word(words):\n",
    "    longest = []\n",
    "    list_of_words=[]\n",
    "    list_of_words.append(words)\n",
    "    print(\"Your list is:\", list_of_words)\n",
    "    for word in words:\n",
    "        if len(word) > len(longest):\n",
    "            longest=word\n",
    "    return longest\n",
    "\n",
    "words = input(\"Enter your words separated by spaces: \").split()\n",
    "print(\"Longest word:\", longest_word(words))"
   ]
  },
  {
   "cell_type": "markdown",
   "metadata": {},
   "source": [
    "# Checking if a Number is Prime"
   ]
  },
  {
   "cell_type": "code",
   "execution_count": 5,
   "metadata": {},
   "outputs": [
    {
     "name": "stdout",
     "output_type": "stream",
     "text": [
      "not prime\n"
     ]
    }
   ],
   "source": [
    "def check_is_prime(number):\n",
    "    if number <= 1:\n",
    "        print(\"not prime\")\n",
    "    for i in range(2, (int(number ** 0.5)+1)):\n",
    "        if number % i == 0:\n",
    "            print(\"not prime\")\n",
    "            break\n",
    "    else:\n",
    "        print(\"prime\")\n",
    "\n",
    "number = int(input(\"Enter a number: \"))\n",
    "check_is_prime(number)"
   ]
  },
  {
   "cell_type": "markdown",
   "metadata": {},
   "source": [
    "# Converting Temperature Units"
   ]
  },
  {
   "cell_type": "code",
   "execution_count": null,
   "metadata": {},
   "outputs": [],
   "source": [
    "def celsius_to_fahrenheit(celsius):\n",
    "    return (celsius * 9/5) + 32\n",
    "\n",
    "def fahrenheit_to_celsius(fahrenheit):\n",
    "    return (fahrenheit - 32) * 5/9\n",
    "\n",
    "def celsius_to_kelvin(celsius):\n",
    "    return celsius + 273.15\n",
    "\n",
    "def kelvin_to_celsius(kelvin):\n",
    "    return kelvin - 273.15\n",
    "\n",
    "def fahrenheit_to_kelvin(fahrenheit):\n",
    "    return (fahrenheit - 32) * 5/9 + 273.15\n",
    "\n",
    "def kelvin_to_fahrenheit(kelvin):\n",
    "    return (kelvin - 273.15) * 9/5 + 32\n",
    "\n",
    "print(\"Temperature Converter\")\n",
    "choice = input(\"Enter the conversion type (C to F, F to C, C to K, K to C, F to K, K to F): \").strip().lower()\n",
    "\n",
    "temperature = float(input(\"Enter the temperature value: \"))\n",
    "\n",
    "if choice == \"c to f\":\n",
    "    print(f\"{temperature} Celsius = {celsius_to_fahrenheit(temperature)} Fahrenheit\")\n",
    "elif choice == \"f to c\":\n",
    "    print(f\"{temperature} Fahrenheit = {fahrenheit_to_celsius(temperature)} Celsius\")\n",
    "elif choice == \"c to k\":\n",
    "    print(f\"{temperature} Celsius = {celsius_to_kelvin(temperature)} Kelvin\")\n",
    "elif choice == \"k to c\":\n",
    "    print(f\"{temperature} Kelvin = {kelvin_to_celsius(temperature)} Celsius\")\n",
    "elif choice == \"f to k\":\n",
    "    print(f\"{temperature} Fahrenheit = {fahrenheit_to_kelvin(temperature)} Kelvin\")\n",
    "elif choice == \"k to f\":\n",
    "    print(f\"{temperature} Kelvin = {kelvin_to_fahrenheit(temperature)} Fahrenheit\")\n",
    "else:\n",
    "    print(\"Invalid conversion type!\")"
   ]
  },
  {
   "cell_type": "markdown",
   "metadata": {},
   "source": [
    "# Generating a List of Squares Using List Comprehension and Functions"
   ]
  },
  {
   "cell_type": "code",
   "execution_count": null,
   "metadata": {},
   "outputs": [],
   "source": [
    "def list_of_squares(numbers):\n",
    "    return [i ** 2 for i in numbers]\n",
    "\n",
    "numbers = [1, 2, 3, 4, 5]\n",
    "print(\"List of squares:\", list_of_squares(numbers))"
   ]
  },
  {
   "cell_type": "markdown",
   "metadata": {},
   "source": [
    "# Converting a List of Strings to Uppercase"
   ]
  },
  {
   "cell_type": "code",
   "execution_count": null,
   "metadata": {},
   "outputs": [],
   "source": [
    "def upper_words(words):\n",
    "    for word in words:\n",
    "        uppercase_words.append(word.upper())\n",
    "    print(uppercase_words)\n",
    "\n",
    "uppercase_words=[]\n",
    "words = input(\"Enter your words separated by space: \").split()\n",
    "upper_words(words)"
   ]
  },
  {
   "cell_type": "markdown",
   "metadata": {},
   "source": [
    "# Calculating the Total Price Including Tax\n"
   ]
  },
  {
   "cell_type": "code",
   "execution_count": null,
   "metadata": {},
   "outputs": [],
   "source": [
    "def calculate_total_price(price, tax):\n",
    "    tax = price * (tax / 100)\n",
    "    total_price = price + tax\n",
    "    return total_price\n",
    "\n",
    "price = float(input(\"Enter the price of the item: \"))\n",
    "tax = float(input(\"Enter the tax rate (%): \"))\n",
    "total = calculate_total_price(price, tax)\n",
    "print(f\"The total price including tax is: {total:.2f}\")"
   ]
  },
  {
   "cell_type": "markdown",
   "metadata": {},
   "source": [
    "# Finding the Minimum and Maximum Values in a List"
   ]
  },
  {
   "cell_type": "code",
   "execution_count": null,
   "metadata": {},
   "outputs": [],
   "source": [
    "def find_min_max(numbers):\n",
    "    return min(numbers), max(numbers)\n",
    "\n",
    "numbers = input().split()\n",
    "min_value, max_value = find_min_max(numbers)\n",
    "print(\"Minimum value:\", min_value)\n",
    "print(\"Maximum value:\", max_value)"
   ]
  },
  {
   "cell_type": "markdown",
   "metadata": {},
   "source": [
    "# Checking if a String is a Valid Email Address"
   ]
  },
  {
   "cell_type": "code",
   "execution_count": null,
   "metadata": {},
   "outputs": [],
   "source": [
    "def is_valid_email(email):\n",
    "    return \"@\" in email and \".\" in email.split(\"@\")[-1]\n",
    "\n",
    "email = input()\n",
    "print(\"Is valid email:\", is_valid_email(email))"
   ]
  },
  {
   "cell_type": "markdown",
   "metadata": {},
   "source": [
    "# Counting the Frequency of Each Character in a String"
   ]
  },
  {
   "cell_type": "code",
   "execution_count": null,
   "metadata": {},
   "outputs": [],
   "source": [
    "def count_character_frequency(text):\n",
    "    frequency = {}\n",
    "    for char in text:\n",
    "        if char in frequency:\n",
    "            frequency[char] += 1\n",
    "        else:\n",
    "            frequency[char] = 1\n",
    "    return frequency\n",
    "\n",
    "text = input()\n",
    "print(\"Character frequency:\", count_character_frequency(text))"
   ]
  }
 ],
 "metadata": {
  "kernelspec": {
   "display_name": "Python 3",
   "language": "python",
   "name": "python3"
  },
  "language_info": {
   "codemirror_mode": {
    "name": "ipython",
    "version": 3
   },
   "file_extension": ".py",
   "mimetype": "text/x-python",
   "name": "python",
   "nbconvert_exporter": "python",
   "pygments_lexer": "ipython3",
   "version": "3.12.7"
  }
 },
 "nbformat": 4,
 "nbformat_minor": 4
}
